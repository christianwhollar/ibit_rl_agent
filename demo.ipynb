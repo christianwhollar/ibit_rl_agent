{
 "cells": [
  {
   "cell_type": "code",
   "execution_count": 1,
   "metadata": {},
   "outputs": [
    {
     "name": "stdout",
     "output_type": "stream",
     "text": [
      "Episode 0, Total Reward: 2450.17, Epsilon: 0.96\n",
      "Episode 1, Total Reward: -637.42, Epsilon: 0.67\n",
      "Episode 2, Total Reward: 269.10, Epsilon: 0.47\n",
      "Episode 3, Total Reward: 1634.41, Epsilon: 0.33\n",
      "Episode 4, Total Reward: -214.86, Epsilon: 0.23\n",
      "Episode 5, Total Reward: -246.27, Epsilon: 0.16\n",
      "Episode 6, Total Reward: -268.24, Epsilon: 0.11\n",
      "Episode 7, Total Reward: -292.28, Epsilon: 0.08\n"
     ]
    }
   ],
   "source": [
    "import pandas as pd\n",
    "from rl.test import test_agent\n",
    "from rl.train import train_dqn_agent\n",
    "from rl.predict import predict_action\n",
    "from rl.save import save_agent\n",
    "from rl.load import load_agent\n",
    "\n",
    "# Train & Test Demo\n",
    "# Part 1: Train\n",
    "df = pd.read_csv('data/ibit_btc_spot_df.csv')\n",
    "\n",
    "train_size = int(len(df)*0.9)\n",
    "train_data = df.iloc[:train_size]\n",
    "test_data = df.iloc[train_size:]\n",
    "\n",
    "max_profit = 0\n",
    "best_window_size = 1\n",
    "best_episodes = 0\n",
    "\n",
    "trained_agent = train_dqn_agent(train_data, episodes=8, window_size=5, batch_size=64)\n",
    "save_agent(trained_agent)\n"
   ]
  },
  {
   "cell_type": "code",
   "execution_count": 2,
   "metadata": {},
   "outputs": [
    {
     "name": "stdout",
     "output_type": "stream",
     "text": [
      "   step  action  balance  open_order_value  calls_open  puts_open  \\\n",
      "0     0       1  10000.0               0.0           0          0   \n",
      "1     1       1     14.4            9840.0         160        160   \n",
      "2     2       1     14.4            9907.2         160        160   \n",
      "3     3       1     14.4            9736.0         160        160   \n",
      "4     4       1     14.4            9876.8         160        160   \n",
      "5     5       1     14.4           10001.6         160        160   \n",
      "6     6       1     14.4            9992.0         160        160   \n",
      "7     7       1     14.4            9988.8         160        160   \n",
      "\n",
      "   strike_price  \n",
      "0           0.0  \n",
      "1          57.5  \n",
      "2          57.5  \n",
      "3          57.5  \n",
      "4          57.5  \n",
      "5          57.5  \n",
      "6          57.5  \n",
      "7          57.5  \n",
      "Final Portfolio Value on Test Data: 10016.000000000002\n",
      "Profit on Test Data: 16.00000000000182\n"
     ]
    }
   ],
   "source": [
    "# Part 2: Test\n",
    "final_value, profit, summary_df = test_agent(trained_agent, test_data, window_size=1)\n",
    "print(summary_df)\n",
    "\n",
    "print(f\"Final Portfolio Value on Test Data: {final_value}\")\n",
    "print(f\"Profit on Test Data: {profit}\")"
   ]
  },
  {
   "cell_type": "code",
   "execution_count": 3,
   "metadata": {},
   "outputs": [
    {
     "name": "stdout",
     "output_type": "stream",
     "text": [
      "Recommended action for row 0: sell\n"
     ]
    }
   ],
   "source": [
    "# Predict Demo\n",
    "import pandas as pd\n",
    "from rl.predict import predict_action\n",
    "from rl.load import load_agent\n",
    "\n",
    "df = pd.read_csv('data/ibit_btc_spot_df.csv')\n",
    "\n",
    "trained_agent = load_agent()\n",
    "\n",
    "action_str = predict_action(trained_agent, df, row_index=0)\n",
    "print(f\"Recommended action for row 0: {action_str}\")"
   ]
  }
 ],
 "metadata": {
  "kernelspec": {
   "display_name": "Python 3",
   "language": "python",
   "name": "python3"
  },
  "language_info": {
   "codemirror_mode": {
    "name": "ipython",
    "version": 3
   },
   "file_extension": ".py",
   "mimetype": "text/x-python",
   "name": "python",
   "nbconvert_exporter": "python",
   "pygments_lexer": "ipython3",
   "version": "3.12.5"
  }
 },
 "nbformat": 4,
 "nbformat_minor": 2
}
